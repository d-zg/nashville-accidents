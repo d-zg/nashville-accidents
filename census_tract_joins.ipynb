{
  "nbformat": 4,
  "nbformat_minor": 0,
  "metadata": {
    "language_info": {
      "codemirror_mode": {
        "name": "ipython",
        "version": 3
      },
      "file_extension": ".py",
      "mimetype": "text/x-python",
      "name": "python",
      "nbconvert_exporter": "python",
      "pygments_lexer": "ipython3",
      "version": "3.7.7-final"
    },
    "orig_nbformat": 2,
    "kernelspec": {
      "name": "python3",
      "display_name": "Python 3",
      "language": "python"
    },
    "colab": {
      "name": "spark_jobs.ipynb",
      "provenance": [],
      "include_colab_link": true
    }
  },
  "cells": [
    {
      "cell_type": "markdown",
      "metadata": {
        "id": "view-in-github",
        "colab_type": "text"
      },
      "source": [
        "<a href=\"https://colab.research.google.com/github/vu-topics-in-big-data-2023/Team05/blob/main/census_tract_joins.ipynb\" target=\"_parent\"><img src=\"https://colab.research.google.com/assets/colab-badge.svg\" alt=\"Open In Colab\"/></a>"
      ]
    },
    {
      "cell_type": "code",
      "metadata": {
        "id": "rRZIkSqT__Dv"
      },
      "source": [
        "!apt-get install openjdk-8-jdk-headless -qq > /dev/null\n",
        "import os\n",
        "os.environ[\"JAVA_HOME\"] = \"/usr/lib/jvm/java-8-openjdk-amd64\"\n"
      ],
      "execution_count": null,
      "outputs": []
    },
    {
      "cell_type": "code",
      "source": [
        "from google.colab import drive\n",
        "drive.mount('/content/drive')"
      ],
      "metadata": {
        "colab": {
          "base_uri": "https://localhost:8080/"
        },
        "id": "4Cf9znGuYBTM",
        "outputId": "c1973850-9904-4cf8-c675-a1007084e677"
      },
      "execution_count": 1,
      "outputs": [
        {
          "output_type": "stream",
          "name": "stdout",
          "text": [
            "Mounted at /content/drive\n"
          ]
        }
      ]
    },
    {
      "cell_type": "code",
      "source": [
        "#install spark. we are using the one that uses hadoop as the underlying scheduler.\n",
        "!wget -q https://downloads.apache.org/spark/spark-3.2.4/spark-3.2.4-bin-hadoop3.2.tgz\n",
        "!tar xf  spark-3.2.4-bin-hadoop3.2.tgz\n",
        "!ls -l\n",
        "\n",
        "#Provides findspark.init() to make pyspark importable as a regular library.\n",
        "os.environ[\"SPARK_HOME\"] = \"spark-3.2.4-bin-hadoop3.2\"\n",
        "os.environ['PYSPARK_SUBMIT_ARGS'] = '--packages org.apache.spark:spark-streaming-kafka-0-8_2.11:2.4.7 pyspark-shell'"
      ],
      "metadata": {
        "id": "_BcbpaYeKNlG",
        "outputId": "a0238d9f-6a5e-4ec5-ef94-4d854bd23d97",
        "colab": {
          "base_uri": "https://localhost:8080/"
        }
      },
      "execution_count": null,
      "outputs": [
        {
          "output_type": "stream",
          "name": "stdout",
          "text": [
            "total 294144\n",
            "drwx------  6 root root      4096 Apr 30 19:43 drive\n",
            "drwxr-xr-x  1 root root      4096 Apr 27 13:35 sample_data\n",
            "-rw-r--r--  1 root root      1266 Apr 30 19:42 schema.py\n",
            "drwxr-xr-x 13 1000 1000      4096 Apr  9 21:17 spark-3.2.4-bin-hadoop3.2\n",
            "-rw-r--r--  1 root root 301183180 Apr  9 21:35 spark-3.2.4-bin-hadoop3.2.tgz\n"
          ]
        }
      ]
    },
    {
      "cell_type": "code",
      "source": [
        "!pip install -q findspark pyspark\n",
        "import findspark\n",
        "findspark.init()"
      ],
      "metadata": {
        "id": "xB4TPZH16jmR",
        "outputId": "2f0e89bf-9b12-4f70-c68a-8f25af99e2cb",
        "colab": {
          "base_uri": "https://localhost:8080/"
        }
      },
      "execution_count": null,
      "outputs": [
        {
          "output_type": "stream",
          "name": "stdout",
          "text": [
            "\u001b[2K     \u001b[90m━━━━━━━━━━━━━━━━━━━━━━━━━━━━━━━━━━━━━━━\u001b[0m \u001b[32m310.8/310.8 MB\u001b[0m \u001b[31m5.0 MB/s\u001b[0m eta \u001b[36m0:00:00\u001b[0m\n",
            "\u001b[?25h  Preparing metadata (setup.py) ... \u001b[?25l\u001b[?25hdone\n",
            "  Building wheel for pyspark (setup.py) ... \u001b[?25l\u001b[?25hdone\n"
          ]
        }
      ]
    },
    {
      "cell_type": "code",
      "source": [
        "!pip install geopandas "
      ],
      "metadata": {
        "colab": {
          "base_uri": "https://localhost:8080/"
        },
        "id": "YHM9yyXtT6rG",
        "outputId": "63935528-3eed-4e59-98c7-292bdcd86534"
      },
      "execution_count": 2,
      "outputs": [
        {
          "output_type": "stream",
          "name": "stdout",
          "text": [
            "Looking in indexes: https://pypi.org/simple, https://us-python.pkg.dev/colab-wheels/public/simple/\n",
            "Collecting geopandas\n",
            "  Downloading geopandas-0.12.2-py3-none-any.whl (1.1 MB)\n",
            "\u001b[2K     \u001b[90m━━━━━━━━━━━━━━━━━━━━━━━━━━━━━━━━━━━━━━━━\u001b[0m \u001b[32m1.1/1.1 MB\u001b[0m \u001b[31m10.4 MB/s\u001b[0m eta \u001b[36m0:00:00\u001b[0m\n",
            "\u001b[?25hRequirement already satisfied: pandas>=1.0.0 in /usr/local/lib/python3.10/dist-packages (from geopandas) (1.5.3)\n",
            "Requirement already satisfied: shapely>=1.7 in /usr/local/lib/python3.10/dist-packages (from geopandas) (2.0.1)\n",
            "Collecting fiona>=1.8 (from geopandas)\n",
            "  Downloading Fiona-1.9.3-cp310-cp310-manylinux_2_17_x86_64.manylinux2014_x86_64.whl (16.0 MB)\n",
            "\u001b[2K     \u001b[90m━━━━━━━━━━━━━━━━━━━━━━━━━━━━━━━━━━━━━━━━\u001b[0m \u001b[32m16.0/16.0 MB\u001b[0m \u001b[31m36.1 MB/s\u001b[0m eta \u001b[36m0:00:00\u001b[0m\n",
            "\u001b[?25hCollecting pyproj>=2.6.1.post1 (from geopandas)\n",
            "  Downloading pyproj-3.5.0-cp310-cp310-manylinux_2_17_x86_64.manylinux2014_x86_64.whl (7.7 MB)\n",
            "\u001b[2K     \u001b[90m━━━━━━━━━━━━━━━━━━━━━━━━━━━━━━━━━━━━━━━━\u001b[0m \u001b[32m7.7/7.7 MB\u001b[0m \u001b[31m94.6 MB/s\u001b[0m eta \u001b[36m0:00:00\u001b[0m\n",
            "\u001b[?25hRequirement already satisfied: packaging in /usr/local/lib/python3.10/dist-packages (from geopandas) (23.1)\n",
            "Requirement already satisfied: attrs>=19.2.0 in /usr/local/lib/python3.10/dist-packages (from fiona>=1.8->geopandas) (23.1.0)\n",
            "Requirement already satisfied: certifi in /usr/local/lib/python3.10/dist-packages (from fiona>=1.8->geopandas) (2022.12.7)\n",
            "Requirement already satisfied: click~=8.0 in /usr/local/lib/python3.10/dist-packages (from fiona>=1.8->geopandas) (8.1.3)\n",
            "Collecting click-plugins>=1.0 (from fiona>=1.8->geopandas)\n",
            "  Downloading click_plugins-1.1.1-py2.py3-none-any.whl (7.5 kB)\n",
            "Collecting cligj>=0.5 (from fiona>=1.8->geopandas)\n",
            "  Downloading cligj-0.7.2-py3-none-any.whl (7.1 kB)\n",
            "Collecting munch>=2.3.2 (from fiona>=1.8->geopandas)\n",
            "  Downloading munch-2.5.0-py2.py3-none-any.whl (10 kB)\n",
            "Requirement already satisfied: python-dateutil>=2.8.1 in /usr/local/lib/python3.10/dist-packages (from pandas>=1.0.0->geopandas) (2.8.2)\n",
            "Requirement already satisfied: pytz>=2020.1 in /usr/local/lib/python3.10/dist-packages (from pandas>=1.0.0->geopandas) (2022.7.1)\n",
            "Requirement already satisfied: numpy>=1.21.0 in /usr/local/lib/python3.10/dist-packages (from pandas>=1.0.0->geopandas) (1.22.4)\n",
            "Requirement already satisfied: six in /usr/local/lib/python3.10/dist-packages (from munch>=2.3.2->fiona>=1.8->geopandas) (1.16.0)\n",
            "Installing collected packages: pyproj, munch, cligj, click-plugins, fiona, geopandas\n",
            "Successfully installed click-plugins-1.1.1 cligj-0.7.2 fiona-1.9.3 geopandas-0.12.2 munch-2.5.0 pyproj-3.5.0\n"
          ]
        }
      ]
    },
    {
      "cell_type": "code",
      "source": [
        "!pip install geospark"
      ],
      "metadata": {
        "id": "gUcTxDt2tLKH",
        "outputId": "399ab7ea-4966-4f80-9758-4cf5e8776709",
        "colab": {
          "base_uri": "https://localhost:8080/"
        }
      },
      "execution_count": null,
      "outputs": [
        {
          "output_type": "stream",
          "name": "stdout",
          "text": [
            "Looking in indexes: https://pypi.org/simple, https://us-python.pkg.dev/colab-wheels/public/simple/\n",
            "Collecting geospark\n",
            "  Downloading geospark-1.3.1-py3-none-any.whl (34.4 MB)\n",
            "\u001b[2K     \u001b[90m━━━━━━━━━━━━━━━━━━━━━━━━━━━━━━━━━━━━━━━━\u001b[0m \u001b[32m34.4/34.4 MB\u001b[0m \u001b[31m3.8 MB/s\u001b[0m eta \u001b[36m0:00:00\u001b[0m\n",
            "\u001b[?25hRequirement already satisfied: findspark in /usr/local/lib/python3.10/dist-packages (from geospark) (2.0.1)\n",
            "Requirement already satisfied: shapely in /usr/local/lib/python3.10/dist-packages (from geospark) (2.0.1)\n",
            "Requirement already satisfied: attrs in /usr/local/lib/python3.10/dist-packages (from geospark) (23.1.0)\n",
            "Requirement already satisfied: pyspark in /usr/local/lib/python3.10/dist-packages (from geospark) (3.4.0)\n",
            "Requirement already satisfied: py4j==0.10.9.7 in /usr/local/lib/python3.10/dist-packages (from pyspark->geospark) (0.10.9.7)\n",
            "Requirement already satisfied: numpy>=1.14 in /usr/local/lib/python3.10/dist-packages (from shapely->geospark) (1.22.4)\n",
            "Installing collected packages: geospark\n",
            "Successfully installed geospark-1.3.1\n"
          ]
        }
      ]
    },
    {
      "cell_type": "markdown",
      "source": [
        "# Write Spark Code Locally and test the Code and Save it to your repository"
      ],
      "metadata": {
        "id": "o1prQTAn7Mbu"
      }
    },
    {
      "cell_type": "markdown",
      "metadata": {
        "id": "Pz7dMIVJ__Dy"
      },
      "source": [
        "# Step 2. Complete Spark Jobs Below Locally. \n",
        "\n",
        "Once they work you can submit them to EMR"
      ]
    },
    {
      "cell_type": "code",
      "metadata": {
        "id": "eNPsauvU__Dz",
        "colab": {
          "base_uri": "https://localhost:8080/"
        },
        "outputId": "3a2e887d-46b1-472d-eae2-3d8f49bf5374"
      },
      "source": [
        "import geopandas as gpd\n",
        "from shapely.geometry import Point\n",
        "import pandas as pd\n",
        "file_path = \"/content/drive/MyDrive/big-data-final/tennessee\"\n",
        "\n",
        "shapefile = gpd.read_file(file_path)\n",
        "\n",
        "census_tracts = gpd.GeoDataFrame(shapefile)\n",
        "\n",
        "points_df = pd.read_parquet('/content/drive/MyDrive/big-data-final/nfd_incidents_xd_seg.parquet')\n",
        "\n",
        "points = gpd.GeoDataFrame(\n",
        "    points_df, \n",
        "    crs=census_tracts.crs,  # Set the same CRS as the counties dataframe\n",
        "    geometry=[Point(xy) for xy in zip(points_df.longitude, points_df.latitude)]\n",
        ")\n",
        "\n",
        "# Perform the spatial join\n",
        "joined = gpd.sjoin(points, census_tracts, op='within')"
      ],
      "execution_count": 3,
      "outputs": [
        {
          "output_type": "stream",
          "name": "stderr",
          "text": [
            "/usr/local/lib/python3.10/dist-packages/IPython/core/interactiveshell.py:3473: FutureWarning: The `op` parameter is deprecated and will be removed in a future release. Please use the `predicate` parameter instead.\n",
            "  if (await self.run_code(code, result,  async_=asy)):\n"
          ]
        }
      ]
    },
    {
      "cell_type": "code",
      "source": [
        "# save the results of the spatial join to a parquet file\n",
        "joined.to_parquet('/content/drive/MyDrive/big-data-final/tracts_joined_with_points.parquet')"
      ],
      "metadata": {
        "id": "_Axoa45iPx7N"
      },
      "execution_count": 4,
      "outputs": []
    },
    {
      "cell_type": "code",
      "source": [
        "census_info = pd.read_csv('/content/drive/MyDrive/big-data-final/census_economic_data_all_tennessee_labels.csv')\n",
        "\n",
        "# get rid of duplicate entries by just summing the amount of people in each row for rows w/ same tract\n",
        "grouped_info = census_info.groupby('tract').sum()\n",
        "\n",
        "df = grouped_info\n",
        "\n",
        "# making percentage columns\n",
        "df['white_pct'] = df['white alone'] / df['total population'] * 100\n",
        "df['black_pct'] = df['black alone'] / df['total population'] * 100\n",
        "df['native_pct'] = df['native alone'] / df['total population'] * 100\n",
        "df['asian_pct'] = df['asian alone'] / df['total population'] * 100\n",
        "df['hawaiin_pct'] = df['hawaiin alone'] / df['total population'] * 100\n",
        "df['other_race_pct'] = df['other race alone'] / df['total population'] * 100\n",
        "df['two_or_more_pct'] = df['two or more races'] / df['total population'] * 100\n",
        "df['hispanic_pct'] = df['hispanic'] / df['total population'] * 100\n",
        "\n",
        "# convert tract to int\n",
        "joined['TRACTCE'] = joined['TRACTCE'].astype(int)\n",
        "\n",
        "# group the original incidents dataset (which was joined with census tract data) by tract\n",
        "grouped_joined = joined.groupby([\"TRACTCE\"]).agg({\"response_time_sec\": \"mean\",}).join(\n",
        "    joined.groupby([\"TRACTCE\"])[\"response_time_sec\"].count().rename(\"num_rows\")\n",
        ").reset_index().rename(\n",
        "    columns={\"response_time_sec\": \"avg_response_time_sec\"}\n",
        ")\n",
        "\n",
        "# join the full original incidents with demographic info\n",
        "joined2 = pd.merge(joined, df, how='left', left_on='TRACTCE', right_on='tract')\n",
        "\n",
        "# join grouped incindents dataset with demograhpic info\n",
        "joined3 = pd.merge(grouped_joined, df, how='left', left_on='TRACTCE', right_on='tract')\n",
        "\n",
        "# rejoin the grouped demographic information with the geographic info for plotting\n",
        "census_tracts['TRACTCE'] = census_tracts['TRACTCE'].astype(int) # convert the geographic info tractce\n",
        "\n",
        "# print(joined3.head())\n",
        "joined4 = pd.merge(joined3, census_tracts, how='left', left_on='TRACTCE', right_on='TRACTCE')\n",
        "\n",
        "joined4.columns\n"
      ],
      "metadata": {
        "id": "vcvWO_7c0rdF",
        "outputId": "7a323c2d-42cf-47a9-99d5-d4123c2bfc88",
        "colab": {
          "base_uri": "https://localhost:8080/"
        }
      },
      "execution_count": 6,
      "outputs": [
        {
          "output_type": "stream",
          "name": "stderr",
          "text": [
            "<ipython-input-6-ac1ab0762110>:4: FutureWarning: The default value of numeric_only in DataFrameGroupBy.sum is deprecated. In a future version, numeric_only will default to False. Either specify numeric_only or select only columns which should be valid for the function.\n",
            "  grouped_info = census_info.groupby('tract').sum()\n"
          ]
        },
        {
          "output_type": "execute_result",
          "data": {
            "text/plain": [
              "Index(['TRACTCE', 'avg_response_time_sec', 'num_rows', 'total population',\n",
              "       'male 25 to 29', 'female 25 to 29', 'white alone', 'black alone',\n",
              "       'native alone', 'asian alone', 'hawaiin alone', 'other race alone',\n",
              "       'two or more races', 'hispanic', 'median household income',\n",
              "       'median family income', 'total housing units', 'occupied housing units',\n",
              "       'owner occupied housing units', 'housing units btw 500k and 750k',\n",
              "       'housing units btw 750k and 1m', 'housing units above 1m',\n",
              "       'vacant housing units', 'median housing value', 'median gross rent',\n",
              "       'state', 'county', 'white_pct', 'black_pct', 'native_pct', 'asian_pct',\n",
              "       'hawaiin_pct', 'other_race_pct', 'two_or_more_pct', 'hispanic_pct',\n",
              "       'STATEFP', 'COUNTYFP', 'GEOID', 'NAME', 'NAMELSAD', 'MTFCC', 'FUNCSTAT',\n",
              "       'ALAND', 'AWATER', 'INTPTLAT', 'INTPTLON', 'geometry'],\n",
              "      dtype='object')"
            ]
          },
          "metadata": {},
          "execution_count": 6
        }
      ]
    }
  ]
}