{
  "cells": [
    {
      "cell_type": "markdown",
      "metadata": {
        "id": "view-in-github",
        "colab_type": "text"
      },
      "source": [
        "<a href=\"https://colab.research.google.com/github/FateenAnam/Big-Data-Final-Project/blob/main/0_mrjob_basics_emr.ipynb\" target=\"_parent\"><img src=\"https://colab.research.google.com/assets/colab-badge.svg\" alt=\"Open In Colab\"/></a>"
      ]
    },
    {
      "cell_type": "code",
      "execution_count": 1,
      "metadata": {
        "id": "QVT9JJaw85OH",
        "colab": {
          "base_uri": "https://localhost:8080/"
        },
        "outputId": "29678964-80a1-4858-910f-95f77c2d3086"
      },
      "outputs": [
        {
          "output_type": "stream",
          "name": "stdout",
          "text": [
            "Looking in indexes: https://pypi.org/simple, https://us-python.pkg.dev/colab-wheels/public/simple/\n",
            "Collecting mrjob\n",
            "  Downloading mrjob-0.7.4-py2.py3-none-any.whl (439 kB)\n",
            "\u001b[2K     \u001b[90m━━━━━━━━━━━━━━━━━━━━━━━━━━━━━━━━━━━━━━━\u001b[0m \u001b[32m439.6/439.6 KB\u001b[0m \u001b[31m7.3 MB/s\u001b[0m eta \u001b[36m0:00:00\u001b[0m\n",
            "\u001b[?25hRequirement already satisfied: PyYAML>=3.10 in /usr/local/lib/python3.9/dist-packages (from mrjob) (6.0)\n",
            "Installing collected packages: mrjob\n",
            "Successfully installed mrjob-0.7.4\n"
          ]
        }
      ],
      "source": [
        "#install mrjob\n",
        "!pip install mrjob"
      ]
    },
    {
      "cell_type": "code",
      "execution_count": 2,
      "metadata": {
        "colab": {
          "base_uri": "https://localhost:8080/"
        },
        "id": "SkqXI3JF52uc",
        "outputId": "0c361890-9a43-43af-95e4-ff9871505d5e"
      },
      "outputs": [
        {
          "output_type": "stream",
          "name": "stdout",
          "text": [
            "Looking in indexes: https://pypi.org/simple, https://us-python.pkg.dev/colab-wheels/public/simple/\n",
            "Collecting boto3\n",
            "  Downloading boto3-1.26.104-py3-none-any.whl (135 kB)\n",
            "\u001b[2K     \u001b[90m━━━━━━━━━━━━━━━━━━━━━━━━━━━━━━━━━━━━━━━\u001b[0m \u001b[32m135.6/135.6 KB\u001b[0m \u001b[31m6.5 MB/s\u001b[0m eta \u001b[36m0:00:00\u001b[0m\n",
            "\u001b[?25hCollecting s3transfer<0.7.0,>=0.6.0\n",
            "  Downloading s3transfer-0.6.0-py3-none-any.whl (79 kB)\n",
            "\u001b[2K     \u001b[90m━━━━━━━━━━━━━━━━━━━━━━━━━━━━━━━━━━━━━━━━\u001b[0m \u001b[32m79.6/79.6 KB\u001b[0m \u001b[31m11.3 MB/s\u001b[0m eta \u001b[36m0:00:00\u001b[0m\n",
            "\u001b[?25hCollecting botocore<1.30.0,>=1.29.104\n",
            "  Downloading botocore-1.29.104-py3-none-any.whl (10.6 MB)\n",
            "\u001b[2K     \u001b[90m━━━━━━━━━━━━━━━━━━━━━━━━━━━━━━━━━━━━━━━━\u001b[0m \u001b[32m10.6/10.6 MB\u001b[0m \u001b[31m77.0 MB/s\u001b[0m eta \u001b[36m0:00:00\u001b[0m\n",
            "\u001b[?25hCollecting jmespath<2.0.0,>=0.7.1\n",
            "  Downloading jmespath-1.0.1-py3-none-any.whl (20 kB)\n",
            "Requirement already satisfied: urllib3<1.27,>=1.25.4 in /usr/local/lib/python3.9/dist-packages (from botocore<1.30.0,>=1.29.104->boto3) (1.26.15)\n",
            "Requirement already satisfied: python-dateutil<3.0.0,>=2.1 in /usr/local/lib/python3.9/dist-packages (from botocore<1.30.0,>=1.29.104->boto3) (2.8.2)\n",
            "Requirement already satisfied: six>=1.5 in /usr/local/lib/python3.9/dist-packages (from python-dateutil<3.0.0,>=2.1->botocore<1.30.0,>=1.29.104->boto3) (1.16.0)\n",
            "Installing collected packages: jmespath, botocore, s3transfer, boto3\n",
            "Successfully installed boto3-1.26.104 botocore-1.29.104 jmespath-1.0.1 s3transfer-0.6.0\n"
          ]
        }
      ],
      "source": [
        "!pip install boto3"
      ]
    },
    {
      "cell_type": "markdown",
      "metadata": {
        "id": "KoibDxtVqUAV"
      },
      "source": [
        "### Configure mrjob\n",
        "\n",
        "You need to polulate a config file to allow mrjob to access or create an EMR cluster under your AWS account. You did something similar with the pandas assignment. The information can be obtained from \n",
        "\n",
        "An example mrjob.conf file is like:\n",
        "```yaml\n",
        "runners: \n",
        "    emr: \n",
        "        region: xxx\n",
        "        aws_access_key_id: xxx\n",
        "        aws_secret_access_key: xxx\n",
        "        aws_session_token: xxx\n",
        "```\n",
        "\n",
        "An example mrjob.conf file can be found in your repository. Please replace \"xxx\" with your own credential information, which can be found on the AWS academy lab main page under cloud access. See the readme of the assignment.\n"
      ]
    },
    {
      "cell_type": "markdown",
      "metadata": {
        "id": "9-uzCrCt52ue"
      },
      "source": [
        "# Upload your mrjob.conf from your machine to the colab location"
      ]
    },
    {
      "cell_type": "code",
      "execution_count": 3,
      "metadata": {
        "colab": {
          "base_uri": "https://localhost:8080/",
          "height": 145
        },
        "id": "bUfDP_YU52ue",
        "outputId": "899e0416-d71c-422a-a53a-1333ea2d3c24"
      },
      "outputs": [
        {
          "output_type": "display_data",
          "data": {
            "text/plain": [
              "<IPython.core.display.HTML object>"
            ],
            "text/html": [
              "\n",
              "     <input type=\"file\" id=\"files-505f8b48-dd74-48a5-896b-e97a73cbcb4a\" name=\"files[]\" multiple disabled\n",
              "        style=\"border:none\" />\n",
              "     <output id=\"result-505f8b48-dd74-48a5-896b-e97a73cbcb4a\">\n",
              "      Upload widget is only available when the cell has been executed in the\n",
              "      current browser session. Please rerun this cell to enable.\n",
              "      </output>\n",
              "      <script>// Copyright 2017 Google LLC\n",
              "//\n",
              "// Licensed under the Apache License, Version 2.0 (the \"License\");\n",
              "// you may not use this file except in compliance with the License.\n",
              "// You may obtain a copy of the License at\n",
              "//\n",
              "//      http://www.apache.org/licenses/LICENSE-2.0\n",
              "//\n",
              "// Unless required by applicable law or agreed to in writing, software\n",
              "// distributed under the License is distributed on an \"AS IS\" BASIS,\n",
              "// WITHOUT WARRANTIES OR CONDITIONS OF ANY KIND, either express or implied.\n",
              "// See the License for the specific language governing permissions and\n",
              "// limitations under the License.\n",
              "\n",
              "/**\n",
              " * @fileoverview Helpers for google.colab Python module.\n",
              " */\n",
              "(function(scope) {\n",
              "function span(text, styleAttributes = {}) {\n",
              "  const element = document.createElement('span');\n",
              "  element.textContent = text;\n",
              "  for (const key of Object.keys(styleAttributes)) {\n",
              "    element.style[key] = styleAttributes[key];\n",
              "  }\n",
              "  return element;\n",
              "}\n",
              "\n",
              "// Max number of bytes which will be uploaded at a time.\n",
              "const MAX_PAYLOAD_SIZE = 100 * 1024;\n",
              "\n",
              "function _uploadFiles(inputId, outputId) {\n",
              "  const steps = uploadFilesStep(inputId, outputId);\n",
              "  const outputElement = document.getElementById(outputId);\n",
              "  // Cache steps on the outputElement to make it available for the next call\n",
              "  // to uploadFilesContinue from Python.\n",
              "  outputElement.steps = steps;\n",
              "\n",
              "  return _uploadFilesContinue(outputId);\n",
              "}\n",
              "\n",
              "// This is roughly an async generator (not supported in the browser yet),\n",
              "// where there are multiple asynchronous steps and the Python side is going\n",
              "// to poll for completion of each step.\n",
              "// This uses a Promise to block the python side on completion of each step,\n",
              "// then passes the result of the previous step as the input to the next step.\n",
              "function _uploadFilesContinue(outputId) {\n",
              "  const outputElement = document.getElementById(outputId);\n",
              "  const steps = outputElement.steps;\n",
              "\n",
              "  const next = steps.next(outputElement.lastPromiseValue);\n",
              "  return Promise.resolve(next.value.promise).then((value) => {\n",
              "    // Cache the last promise value to make it available to the next\n",
              "    // step of the generator.\n",
              "    outputElement.lastPromiseValue = value;\n",
              "    return next.value.response;\n",
              "  });\n",
              "}\n",
              "\n",
              "/**\n",
              " * Generator function which is called between each async step of the upload\n",
              " * process.\n",
              " * @param {string} inputId Element ID of the input file picker element.\n",
              " * @param {string} outputId Element ID of the output display.\n",
              " * @return {!Iterable<!Object>} Iterable of next steps.\n",
              " */\n",
              "function* uploadFilesStep(inputId, outputId) {\n",
              "  const inputElement = document.getElementById(inputId);\n",
              "  inputElement.disabled = false;\n",
              "\n",
              "  const outputElement = document.getElementById(outputId);\n",
              "  outputElement.innerHTML = '';\n",
              "\n",
              "  const pickedPromise = new Promise((resolve) => {\n",
              "    inputElement.addEventListener('change', (e) => {\n",
              "      resolve(e.target.files);\n",
              "    });\n",
              "  });\n",
              "\n",
              "  const cancel = document.createElement('button');\n",
              "  inputElement.parentElement.appendChild(cancel);\n",
              "  cancel.textContent = 'Cancel upload';\n",
              "  const cancelPromise = new Promise((resolve) => {\n",
              "    cancel.onclick = () => {\n",
              "      resolve(null);\n",
              "    };\n",
              "  });\n",
              "\n",
              "  // Wait for the user to pick the files.\n",
              "  const files = yield {\n",
              "    promise: Promise.race([pickedPromise, cancelPromise]),\n",
              "    response: {\n",
              "      action: 'starting',\n",
              "    }\n",
              "  };\n",
              "\n",
              "  cancel.remove();\n",
              "\n",
              "  // Disable the input element since further picks are not allowed.\n",
              "  inputElement.disabled = true;\n",
              "\n",
              "  if (!files) {\n",
              "    return {\n",
              "      response: {\n",
              "        action: 'complete',\n",
              "      }\n",
              "    };\n",
              "  }\n",
              "\n",
              "  for (const file of files) {\n",
              "    const li = document.createElement('li');\n",
              "    li.append(span(file.name, {fontWeight: 'bold'}));\n",
              "    li.append(span(\n",
              "        `(${file.type || 'n/a'}) - ${file.size} bytes, ` +\n",
              "        `last modified: ${\n",
              "            file.lastModifiedDate ? file.lastModifiedDate.toLocaleDateString() :\n",
              "                                    'n/a'} - `));\n",
              "    const percent = span('0% done');\n",
              "    li.appendChild(percent);\n",
              "\n",
              "    outputElement.appendChild(li);\n",
              "\n",
              "    const fileDataPromise = new Promise((resolve) => {\n",
              "      const reader = new FileReader();\n",
              "      reader.onload = (e) => {\n",
              "        resolve(e.target.result);\n",
              "      };\n",
              "      reader.readAsArrayBuffer(file);\n",
              "    });\n",
              "    // Wait for the data to be ready.\n",
              "    let fileData = yield {\n",
              "      promise: fileDataPromise,\n",
              "      response: {\n",
              "        action: 'continue',\n",
              "      }\n",
              "    };\n",
              "\n",
              "    // Use a chunked sending to avoid message size limits. See b/62115660.\n",
              "    let position = 0;\n",
              "    do {\n",
              "      const length = Math.min(fileData.byteLength - position, MAX_PAYLOAD_SIZE);\n",
              "      const chunk = new Uint8Array(fileData, position, length);\n",
              "      position += length;\n",
              "\n",
              "      const base64 = btoa(String.fromCharCode.apply(null, chunk));\n",
              "      yield {\n",
              "        response: {\n",
              "          action: 'append',\n",
              "          file: file.name,\n",
              "          data: base64,\n",
              "        },\n",
              "      };\n",
              "\n",
              "      let percentDone = fileData.byteLength === 0 ?\n",
              "          100 :\n",
              "          Math.round((position / fileData.byteLength) * 100);\n",
              "      percent.textContent = `${percentDone}% done`;\n",
              "\n",
              "    } while (position < fileData.byteLength);\n",
              "  }\n",
              "\n",
              "  // All done.\n",
              "  yield {\n",
              "    response: {\n",
              "      action: 'complete',\n",
              "    }\n",
              "  };\n",
              "}\n",
              "\n",
              "scope.google = scope.google || {};\n",
              "scope.google.colab = scope.google.colab || {};\n",
              "scope.google.colab._files = {\n",
              "  _uploadFiles,\n",
              "  _uploadFilesContinue,\n",
              "};\n",
              "})(self);\n",
              "</script> "
            ]
          },
          "metadata": {}
        },
        {
          "output_type": "stream",
          "name": "stdout",
          "text": [
            "Saving mrjob.conf to mrjob.conf\n",
            "Saving emr.pem to emr.pem\n",
            "User uploaded file \"mrjob.conf\" with length 647 bytes\n",
            "User uploaded file \"emr.pem\" with length 1674 bytes\n"
          ]
        }
      ],
      "source": [
        "from google.colab import files\n",
        "\n",
        "# upload mrjob.conf under current directory\n",
        "uploaded = files.upload()\n",
        "for fn in uploaded.keys():\n",
        "  print('User uploaded file \"{name}\" with length {length} bytes'.format(\n",
        "      name=fn, length=len(uploaded[fn])))"
      ]
    },
    {
      "cell_type": "code",
      "execution_count": 4,
      "metadata": {
        "id": "Px9MRH_k52ue"
      },
      "outputs": [],
      "source": [
        "!chmod 400 emr.pem"
      ]
    },
    {
      "cell_type": "markdown",
      "metadata": {
        "id": "k-GHRO45DLjb"
      },
      "source": [
        "# Total Word count example\n"
      ]
    },
    {
      "cell_type": "code",
      "execution_count": 5,
      "metadata": {
        "colab": {
          "base_uri": "https://localhost:8080/"
        },
        "id": "HRkmXD-MFBsr",
        "outputId": "e9003d62-9f79-448a-c805-2308d69de37d"
      },
      "outputs": [
        {
          "output_type": "stream",
          "name": "stdout",
          "text": [
            "Writing mr_word_count.py\n"
          ]
        }
      ],
      "source": [
        "%%file mr_word_count.py\n",
        "from mrjob.job import MRJob\n",
        "class MRWordFrequencyCount(MRJob):\n",
        "  def mapper(self, _, line):\n",
        "    yield \"chars\", len(line)\n",
        "    yield \"words\", len(line.split())\n",
        "    yield \"lines\", 1\n",
        "  \n",
        "  def combiner(self, key, values):\n",
        "    yield key, sum(values)\n",
        "    \n",
        "  def reducer(self, key, values):\n",
        "    yield key, sum(values)\n",
        "\n",
        "\n",
        "if __name__ == '__main__': \n",
        "  MRWordFrequencyCount.run() "
      ]
    },
    {
      "cell_type": "markdown",
      "metadata": {
        "id": "ehj_QHCSlyaY"
      },
      "source": [
        "## Step 1. Run MR program locally(Colab)"
      ]
    },
    {
      "cell_type": "code",
      "execution_count": 6,
      "metadata": {
        "id": "iwr25tu7FOsB",
        "colab": {
          "base_uri": "https://localhost:8080/"
        },
        "outputId": "8a151e07-6c2b-468b-de25-a3de825f9870"
      },
      "outputs": [
        {
          "output_type": "stream",
          "name": "stdout",
          "text": [
            "No configs found; falling back on auto-configuration\n",
            "No configs specified for local runner\n",
            "Creating temp directory /tmp/mr_word_count.root.20230331.204646.933326\n",
            "Running step 1 of 1...\n",
            "job output is in /tmp/mr_word_count.root.20230331.204646.933326/output\n",
            "Streaming final output from /tmp/mr_word_count.root.20230331.204646.933326/output...\n",
            "Removing temp directory /tmp/mr_word_count.root.20230331.204646.933326...\n"
          ]
        }
      ],
      "source": [
        "# Run locally to check that the output looks okay and your core algorithm is good.\n",
        "# You should always run locally. It can be done with just a sample of the main data.\n",
        "# However, in this case because the input file is small it does not matter and we run with full file.\n",
        "!python mr_word_count.py -r local sample_data/README.md >output.local"
      ]
    },
    {
      "cell_type": "code",
      "execution_count": 7,
      "metadata": {
        "id": "t34Tq7FDmgbt",
        "colab": {
          "base_uri": "https://localhost:8080/"
        },
        "outputId": "1499d7a8-fa1e-44a6-a25c-21920a7dd5c3"
      },
      "outputs": [
        {
          "output_type": "stream",
          "name": "stdout",
          "text": [
            "\"words\"\t80\n",
            "\"lines\"\t19\n",
            "\"chars\"\t911\n"
          ]
        }
      ],
      "source": [
        "!cat output.local"
      ]
    },
    {
      "cell_type": "markdown",
      "metadata": {
        "id": "xrq0-aZFlyaY"
      },
      "source": [
        "# Step 2. Run MR program on AWS EMR. \n",
        "\n",
        "The code below assumes that you have a S3 bucket called vandy-bigdata where a file readme.md has been saved. It also assumes there is a folder called tmp in your bucket. It also requires that you have an EMR cluster that has been created. You will have to put the correct id of the EMR Cluster in the code below.\n",
        "\n",
        "Follow the instructions below to create an EMR Cluster for yourself. it can take up to 20 minutes to provision an EMR Cluster.  Note there are subtelties about pricing. See https://aws.amazon.com/ec2/spot/use-case/emr/ .\n",
        "\n",
        "Further ensure that the security group for the master node has been configured to allow ssh connections.\n",
        "\n",
        "![images/emr-security.png](https://github.com/vu-topics-in-big-data-2023/map-reduce-programming-assignment-MJRAJ01/blob/main/images/emr-security.png?raw=1)\n",
        "\n",
        "Feel free to discuss this in the class."
      ]
    },
    {
      "cell_type": "code",
      "execution_count": 10,
      "metadata": {
        "id": "ouyJ-Ga4lyaY",
        "colab": {
          "base_uri": "https://localhost:8080/"
        },
        "outputId": "e7d25257-1f28-4e83-eaf6-554e7f5c5281"
      },
      "outputs": [
        {
          "output_type": "stream",
          "name": "stdout",
          "text": [
            "Creating temp directory /tmp/mr_word_count.root.20230331.210538.857625\n",
            "uploading working dir files to s3://vandy-bigdata-1/mr_word_count.root.20230331.210538.857625/files/wd...\n",
            "Copying other local files to s3://vandy-bigdata-1/mr_word_count.root.20230331.210538.857625/files/\n",
            "Adding our job to existing cluster j-1ROJ0IHL57KD0\n",
            "  master node is ec2-35-173-203-184.compute-1.amazonaws.com\n",
            "Waiting for Step 1 of 1 (s-1QCMJ5MUEU49T) to complete...\n",
            "  PENDING (cluster is RUNNING: Running step)\n",
            "  RUNNING for 0:00:30\n",
            "    16.3% complete\n",
            "  COMPLETED\n",
            "Attempting to fetch counters from logs...\n",
            "Looking for step log in /mnt/var/log/hadoop/steps/s-1QCMJ5MUEU49T on ec2-35-173-203-184.compute-1.amazonaws.com...\n",
            "  Parsing step log: ssh://ec2-35-173-203-184.compute-1.amazonaws.com/mnt/var/log/hadoop/steps/s-1QCMJ5MUEU49T/syslog\n",
            "Counters: 60\n",
            "\tFile Input Format Counters \n",
            "\t\tBytes Read=57791\n",
            "\tFile Output Format Counters \n",
            "\t\tBytes Written=39\n",
            "\tFile System Counters\n",
            "\t\tFILE: Number of bytes read=230\n",
            "\t\tFILE: Number of bytes written=3240414\n",
            "\t\tFILE: Number of large read operations=0\n",
            "\t\tFILE: Number of read operations=0\n",
            "\t\tFILE: Number of write operations=0\n",
            "\t\tHDFS: Number of bytes read=656\n",
            "\t\tHDFS: Number of bytes read erasure-coded=0\n",
            "\t\tHDFS: Number of bytes written=0\n",
            "\t\tHDFS: Number of large read operations=0\n",
            "\t\tHDFS: Number of read operations=8\n",
            "\t\tHDFS: Number of write operations=0\n",
            "\t\tS3: Number of bytes read=57791\n",
            "\t\tS3: Number of bytes written=39\n",
            "\t\tS3: Number of large read operations=0\n",
            "\t\tS3: Number of read operations=0\n",
            "\t\tS3: Number of write operations=0\n",
            "\tJob Counters \n",
            "\t\tData-local map tasks=8\n",
            "\t\tKilled map tasks=1\n",
            "\t\tLaunched map tasks=8\n",
            "\t\tLaunched reduce tasks=3\n",
            "\t\tTotal megabyte-milliseconds taken by all map tasks=308161536\n",
            "\t\tTotal megabyte-milliseconds taken by all reduce tasks=114855936\n",
            "\t\tTotal time spent by all map tasks (ms)=100313\n",
            "\t\tTotal time spent by all maps in occupied slots (ms)=9630048\n",
            "\t\tTotal time spent by all reduce tasks (ms)=18694\n",
            "\t\tTotal time spent by all reduces in occupied slots (ms)=3589248\n",
            "\t\tTotal vcore-milliseconds taken by all map tasks=100313\n",
            "\t\tTotal vcore-milliseconds taken by all reduce tasks=18694\n",
            "\tMap-Reduce Framework\n",
            "\t\tCPU time spent (ms)=25160\n",
            "\t\tCombine input records=594\n",
            "\t\tCombine output records=24\n",
            "\t\tFailed Shuffles=0\n",
            "\t\tGC time elapsed (ms)=2658\n",
            "\t\tInput split bytes=656\n",
            "\t\tMap input records=198\n",
            "\t\tMap output bytes=6152\n",
            "\t\tMap output materialized bytes=720\n",
            "\t\tMap output records=594\n",
            "\t\tMerged Map outputs=24\n",
            "\t\tPeak Map Physical memory (bytes)=781979648\n",
            "\t\tPeak Map Virtual memory (bytes)=4447334400\n",
            "\t\tPeak Reduce Physical memory (bytes)=525402112\n",
            "\t\tPeak Reduce Virtual memory (bytes)=7126761472\n",
            "\t\tPhysical memory (bytes) snapshot=7035412480\n",
            "\t\tReduce input groups=3\n",
            "\t\tReduce input records=24\n",
            "\t\tReduce output records=3\n",
            "\t\tReduce shuffle bytes=720\n",
            "\t\tShuffled Maps =24\n",
            "\t\tSpilled Records=48\n",
            "\t\tTotal committed heap usage (bytes)=6569852928\n",
            "\t\tVirtual memory (bytes) snapshot=56838676480\n",
            "\tShuffle Errors\n",
            "\t\tBAD_ID=0\n",
            "\t\tCONNECTION=0\n",
            "\t\tIO_ERROR=0\n",
            "\t\tWRONG_LENGTH=0\n",
            "\t\tWRONG_MAP=0\n",
            "\t\tWRONG_REDUCE=0\n",
            "job output is in s3://vandy-bigdata-1/mr_word_count.root.20230331.210538.857625/output/\n",
            "Streaming final output from s3://vandy-bigdata-1/mr_word_count.root.20230331.210538.857625/output/...\n",
            "Removing s3 temp directory s3://vandy-bigdata-1/mr_word_count.root.20230331.210538.857625/...\n",
            "Removing temp directory /tmp/mr_word_count.root.20230331.210538.857625...\n"
          ]
        }
      ],
      "source": [
        "!python mr_word_count.py -r emr s3://vandy-bigdata-1/README.md --cloud-tmp-dir=s3://vandy-bigdata-1/ --cluster-id=j-1ROJ0IHL57KD0 --conf-path mrjob.conf >output.emr"
      ]
    },
    {
      "cell_type": "markdown",
      "metadata": {
        "id": "hp7_PIUs52ug"
      },
      "source": [
        "**Remember to Terminate your EMR Cluster when you are done and delete the S3 buckets that you dont need once you are done**"
      ]
    },
    {
      "cell_type": "code",
      "execution_count": 11,
      "metadata": {
        "colab": {
          "base_uri": "https://localhost:8080/"
        },
        "id": "TBiGf3Msio9S",
        "outputId": "fb6f7d49-7ee1-47e9-a4f5-dc127860efbd"
      },
      "outputs": [
        {
          "output_type": "stream",
          "name": "stdout",
          "text": [
            "\"lines\"\t198\n",
            "\"chars\"\t13179\n",
            "\"words\"\t1694\n"
          ]
        }
      ],
      "source": [
        "!cat output.emr"
      ]
    },
    {
      "cell_type": "markdown",
      "metadata": {
        "id": "FMsVCEDbFaXP"
      },
      "source": [
        "## What is happening\n",
        "\n",
        "Note that we are writing a python programs using %%file mymrjob.py -- this will copy the content of the cell into a file with the same name. We then run this using the local python command and provide the command line input.\n",
        "\n",
        "\n",
        "In each mrjob file a job is defined by a class that inherits from MRJob. This class contains methods that define the steps of your job. A “step” consists of a mapper, a combiner, and a reducer. All of those are optional, though you must have at least one. So you could have a step that’s just a mapper, or just a combiner and a reducer.\n",
        "\n",
        "When you only have one step, all you have to do is write methods called mapper(), combiner(), and reducer().\n",
        "\n",
        "\n",
        "The mapper() method takes a key and a value as args (in this case, the key is ignored and a single line of text input is the value) and yields as many key-value pairs as it likes. The reduce() method takes a key and an iterator of values and also yields as many key-value pairs as it likes. (In this case, it sums the values for each key, which represent the numbers of characters, words, and lines in the input.)\n",
        "\n",
        "\n",
        "The final required component of a job file is these two lines at the end of the file, every time:\n",
        "\n",
        "\n",
        "```\n",
        "if __name__ == '__main__':\n",
        "  MRWordCounter.run() # where MRWordCounter is your job class\n",
        "```\n",
        "\n",
        "These lines pass control over the command line arguments and execution to mrjob.\n",
        "\n",
        "You invoke it using the python command line\n",
        "\n",
        "\n",
        "\n",
        "```\n",
        "!python mymrjob.py -r emr s3://<your data file> --cloud-tmp-dir=s3://<directory for storing runtime tmp files> --cluster-id=<emr cluster ID> --conf-path <path of mrjob.conf> > output\n",
        "```\n",
        "\n",
        "read the https://buildmedia.readthedocs.org/media/pdf/mrjob/latest/mrjob.pdf for more details. Specifically read section 1.4.2 in the manual about the protocols.\n"
      ]
    },
    {
      "cell_type": "code",
      "execution_count": null,
      "metadata": {
        "id": "KeJ0p2gr52ul"
      },
      "outputs": [],
      "source": []
    }
  ],
  "metadata": {
    "colab": {
      "name": "0_mrjob_basics.ipynb",
      "provenance": [],
      "include_colab_link": true
    },
    "kernelspec": {
      "display_name": "Python 3 (ipykernel)",
      "language": "python",
      "name": "python3"
    },
    "language_info": {
      "codemirror_mode": {
        "name": "ipython",
        "version": 3
      },
      "file_extension": ".py",
      "mimetype": "text/x-python",
      "name": "python",
      "nbconvert_exporter": "python",
      "pygments_lexer": "ipython3",
      "version": "3.9.7"
    }
  },
  "nbformat": 4,
  "nbformat_minor": 0
}
